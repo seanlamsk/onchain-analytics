{
  "nbformat": 4,
  "nbformat_minor": 0,
  "metadata": {
    "colab": {
      "name": "Data Compilation.ipynb",
      "provenance": [],
      "collapsed_sections": [
        "qznUCfASK53R"
      ]
    },
    "kernelspec": {
      "name": "python3",
      "display_name": "Python 3"
    },
    "language_info": {
      "name": "python"
    }
  },
  "cells": [
    {
      "cell_type": "markdown",
      "metadata": {
        "id": "qznUCfASK53R"
      },
      "source": [
        "# Imports"
      ]
    },
    {
      "cell_type": "code",
      "metadata": {
        "id": "-SmapgqiK8c0"
      },
      "source": [
        "import pandas as pd\n",
        "import matplotlib.pyplot as plt\n",
        "from matplotlib.ticker import FuncFormatter\n",
        "import seaborn as sns\n",
        "import numpy as np\n",
        "import math\n",
        "from scipy.stats import norm\n"
      ],
      "execution_count": 3,
      "outputs": []
    },
    {
      "cell_type": "code",
      "metadata": {
        "colab": {
          "base_uri": "https://localhost:8080/"
        },
        "id": "eJf447HrfAiI",
        "outputId": "e924001b-f954-4365-89f5-f27845d6a394"
      },
      "source": [
        "! pip install pandas-datareader==0.10.0"
      ],
      "execution_count": 4,
      "outputs": [
        {
          "output_type": "stream",
          "name": "stdout",
          "text": [
            "Requirement already satisfied: pandas-datareader==0.10.0 in /usr/local/lib/python3.7/dist-packages (0.10.0)\n",
            "Requirement already satisfied: requests>=2.19.0 in /usr/local/lib/python3.7/dist-packages (from pandas-datareader==0.10.0) (2.23.0)\n",
            "Requirement already satisfied: lxml in /usr/local/lib/python3.7/dist-packages (from pandas-datareader==0.10.0) (4.2.6)\n",
            "Requirement already satisfied: pandas>=0.23 in /usr/local/lib/python3.7/dist-packages (from pandas-datareader==0.10.0) (1.1.5)\n",
            "Requirement already satisfied: numpy>=1.15.4 in /usr/local/lib/python3.7/dist-packages (from pandas>=0.23->pandas-datareader==0.10.0) (1.19.5)\n",
            "Requirement already satisfied: python-dateutil>=2.7.3 in /usr/local/lib/python3.7/dist-packages (from pandas>=0.23->pandas-datareader==0.10.0) (2.8.2)\n",
            "Requirement already satisfied: pytz>=2017.2 in /usr/local/lib/python3.7/dist-packages (from pandas>=0.23->pandas-datareader==0.10.0) (2018.9)\n",
            "Requirement already satisfied: six>=1.5 in /usr/local/lib/python3.7/dist-packages (from python-dateutil>=2.7.3->pandas>=0.23->pandas-datareader==0.10.0) (1.15.0)\n",
            "Requirement already satisfied: idna<3,>=2.5 in /usr/local/lib/python3.7/dist-packages (from requests>=2.19.0->pandas-datareader==0.10.0) (2.10)\n",
            "Requirement already satisfied: chardet<4,>=3.0.2 in /usr/local/lib/python3.7/dist-packages (from requests>=2.19.0->pandas-datareader==0.10.0) (3.0.4)\n",
            "Requirement already satisfied: urllib3!=1.25.0,!=1.25.1,<1.26,>=1.21.1 in /usr/local/lib/python3.7/dist-packages (from requests>=2.19.0->pandas-datareader==0.10.0) (1.24.3)\n",
            "Requirement already satisfied: certifi>=2017.4.17 in /usr/local/lib/python3.7/dist-packages (from requests>=2.19.0->pandas-datareader==0.10.0) (2021.5.30)\n"
          ]
        }
      ]
    },
    {
      "cell_type": "markdown",
      "metadata": {
        "id": "-cCIzO99DSoO"
      },
      "source": [
        "# Compiling metrics"
      ]
    },
    {
      "cell_type": "markdown",
      "metadata": {
        "id": "1AxMdwhaDOyy"
      },
      "source": [
        "## Glassnode\n"
      ]
    },
    {
      "cell_type": "markdown",
      "metadata": {
        "id": "iYWoRAuzz_Qd"
      },
      "source": [
        "\n",
        "### Bitcoin On-chain Columns\n",
        "#### Price/Market \n",
        "* Market Cap\n",
        "* Realized Cap\n",
        "* Delta Cap = Realized cap - Average cap\n",
        "\n",
        "#### Transaction\n",
        "* Exchange Net flow volume - difference of in volume flowing into exchanges and out of exchanges vs price\n",
        "* Bitcoin: Number of Transactions per Second or count\n",
        "Total number of daily transactions\n",
        "\n",
        "#### Miner\n",
        "* Miner Revenue - lesser miner revenue could discourage people to mine new cryptocurrency, therefore lower supply which increase cryptocurrency price.\n",
        "* Percentage mine revenue: fees/minted coins\n",
        "\n",
        "#### Profit and Loss\n",
        "* Unrealized Profit/Loss\n",
        "* Relative Unrealized profit or loss\n",
        "* Net Unrealized Profit/Loss (NUPL) \n",
        "Fear index have a correlation with price\n",
        "\n",
        "#### Stock index funds or bond interest rate\n",
        "* SPY\n",
        "\n",
        "#### Ratios\n",
        "* Stock-to-flow \n",
        "* Stock-to-flow deflection\n",
        "Is the stock undervalued or overvalued?\n",
        "\n",
        "#### Indicators (https://cointelegraph.com/magazine/2021/09/03/how-to-prepare-for-end-of-bull-run-part-1-timing)\n",
        "* Puell Multiple\n",
        "* MVRV Z-Score\n",
        "\n",
        "#### Volume\n",
        "* Entity Balances\n",
        "* Exchange Net Position Change - All Exchanges\n",
        "supply held in exchange wallets\n",
        "\n",
        "#### Unspent/Spent Outputs\n",
        "* Percent of UTXOs in Profit"
      ]
    },
    {
      "cell_type": "code",
      "metadata": {
        "colab": {
          "base_uri": "https://localhost:8080/"
        },
        "id": "8iQuE1mAjTXb",
        "outputId": "50819009-d714-490e-f801-b5f2908e9b71"
      },
      "source": [
        "! unzip /content/btc.zip -d /content/dataset"
      ],
      "execution_count": 5,
      "outputs": [
        {
          "output_type": "stream",
          "name": "stdout",
          "text": [
            "Archive:  /content/btc.zip\n",
            "   creating: /content/dataset/btc/indicators/\n",
            "  inflating: /content/dataset/btc/indicators/mvrv-z-score.json  \n",
            "  inflating: /content/dataset/btc/indicators/puell-multiple.json  \n",
            "   creating: /content/dataset/btc/miner/\n",
            "  inflating: /content/dataset/btc/miner/miner-revenue-fees.json  \n",
            "  inflating: /content/dataset/btc/miner/miner-revenue-total.json  \n",
            "   creating: /content/dataset/btc/price market/\n",
            "  inflating: /content/dataset/btc/price market/btc-close-price.json  \n",
            "  inflating: /content/dataset/btc/price market/delta-cap.json  \n",
            "  inflating: /content/dataset/btc/price market/market-cap.json  \n",
            "  inflating: /content/dataset/btc/price market/realized-cap.json  \n",
            "   creating: /content/dataset/btc/profit loss/\n",
            "  inflating: /content/dataset/btc/profit loss/net-unrealized-profit-loss-nupl.json  \n",
            "  inflating: /content/dataset/btc/profit loss/relative-unrealized-loss.json  \n",
            "  inflating: /content/dataset/btc/profit loss/relative-unrealized-profit.json  \n",
            "   creating: /content/dataset/btc/ratio/\n",
            "  inflating: /content/dataset/btc/ratio/rhodl-ratio.json  \n",
            "  inflating: /content/dataset/btc/ratio/stock-to-flow-deflection.json  \n",
            "  inflating: /content/dataset/btc/ratio/stock-to-flow-ratio.json  \n",
            "   creating: /content/dataset/btc/transaction/\n",
            "  inflating: /content/dataset/btc/transaction/exchange-net-flow-volume.json  \n",
            "  inflating: /content/dataset/btc/transaction/in-house-exchange-volume.json  \n",
            "  inflating: /content/dataset/btc/transaction/transaction-count.json  \n",
            "  inflating: /content/dataset/btc/transaction/transaction-rate.json  \n",
            "   creating: /content/dataset/btc/unspent spent outputs/\n",
            "  inflating: /content/dataset/btc/unspent spent outputs/percent-utx-os-in-profit.json  \n",
            "   creating: /content/dataset/btc/volume/\n",
            "  inflating: /content/dataset/btc/volume/exchange-net-position-change.json  \n"
          ]
        }
      ]
    },
    {
      "cell_type": "code",
      "metadata": {
        "id": "sWwCXkUwZi0b",
        "colab": {
          "base_uri": "https://localhost:8080/"
        },
        "outputId": "081f6057-8423-489e-8ad6-2a723c03f0da"
      },
      "source": [
        "from functools import reduce\n",
        "\n",
        "rootdir = '/content/'\n",
        "\n",
        "#btc\n",
        "dfs=[]\n",
        "\n",
        "#price market\n",
        "price = pd.read_json(rootdir+'dataset/btc/price market/btc-close-price.json')\n",
        "price.rename({'v':'close'},axis=1,inplace=True)\n",
        "dfs.append(price)\n",
        "\n",
        "deltacap = pd.read_json(rootdir+'dataset/btc/price market/delta-cap.json')\n",
        "deltacap.rename({'v':'deltacap'},axis=1,inplace=True)\n",
        "dfs.append(deltacap)\n",
        "\n",
        "# mcap = pd.read_json(rootdir+'dataset/btc/price market/market-cap.json')\n",
        "# mcap.rename({'v':'marketcap'},axis=1,inplace=True)\n",
        "# dfs.append(mcap)\n",
        "\n",
        "rcap = pd.read_json(rootdir+'dataset/btc/price market/realized-cap.json')\n",
        "rcap.rename({'v':'realizedcap'},axis=1,inplace=True)\n",
        "dfs.append(rcap)\n",
        "\n",
        "#miner\n",
        "miner_rev_total = pd.read_json(rootdir+'dataset/btc/miner/miner-revenue-total.json')\n",
        "miner_rev_total.rename({'v':'miner_revenue_total'},axis=1,inplace=True)\n",
        "dfs.append(miner_rev_total)\n",
        "\n",
        "miner_rev_fees = pd.read_json(rootdir+'dataset/btc/miner/miner-revenue-fees.json')\n",
        "miner_rev_fees.rename({'v':'miner_fees_percent'},axis=1,inplace=True)\n",
        "dfs.append(miner_rev_fees)\n",
        "\n",
        "#profit loss\n",
        "nupl = pd.read_json(rootdir+'dataset/btc/profit loss/net-unrealized-profit-loss-nupl.json')\n",
        "nupl.rename({'v':'nupl'},axis=1,inplace=True)\n",
        "dfs.append(nupl)\n",
        "\n",
        "rup = pd.read_json(rootdir+'dataset/btc/profit loss/relative-unrealized-profit.json')\n",
        "rup.rename({'v':'relative_unrealised_profit'},axis=1,inplace=True)\n",
        "dfs.append(rup)\n",
        "\n",
        "rul = pd.read_json(rootdir+'dataset/btc/profit loss/relative-unrealized-loss.json')\n",
        "rul.rename({'v':'relative_unrealised_loss'},axis=1,inplace=True)\n",
        "dfs.append(rul)\n",
        "\n",
        "#transactions\n",
        "net_flow_vol = pd.read_json(rootdir+'dataset/btc/transaction/exchange-net-flow-volume.json')\n",
        "net_flow_vol.rename({'v':'net_flow_vol'},axis=1,inplace=True)\n",
        "dfs.append(net_flow_vol)\n",
        "\n",
        "tx_rate = pd.read_json(rootdir+'dataset/btc/transaction/transaction-rate.json')\n",
        "tx_rate.rename({'v':'transaction_rate'},axis=1,inplace=True)\n",
        "dfs.append(tx_rate)\n",
        "\n",
        "tx_count = pd.read_json(rootdir+'dataset/btc/transaction/transaction-count.json')\n",
        "tx_count.rename({'v':'total_transaction'},axis=1,inplace=True)\n",
        "dfs.append(tx_count)\n",
        "\n",
        "inhse_vol = pd.read_json(rootdir+'dataset/btc/transaction/in-house-exchange-volume.json')\n",
        "inhse_vol.rename({'v':'in_house_exchange_volume'},axis=1,inplace=True)\n",
        "dfs.append(inhse_vol)\n",
        "\n",
        "#Ratio\n",
        "rhodl = pd.read_json(rootdir+'dataset/btc/ratio/rhodl-ratio.json')\n",
        "rhodl.rename({'v':'rhodl_ratio'},axis=1,inplace=True)\n",
        "dfs.append(rhodl)\n",
        "\n",
        "stfr = pd.read_json(rootdir+'dataset/btc/ratio/stock-to-flow-ratio.json')\n",
        "stfr_inner = pd.io.json.json_normalize(stfr.o)\n",
        "stfr['days_till_halving'] = stfr_inner['daysTillHalving']\n",
        "stfr['stock_to_flow_ratio'] = stfr_inner['ratio']\n",
        "del stfr['o']\n",
        "dfs.append(stfr)\n",
        "\n",
        "stfrd = pd.read_json(rootdir+'dataset/btc/ratio/stock-to-flow-deflection.json')\n",
        "stfrd.rename({'v':'stock_to_flow_deflection'},axis=1,inplace=True)\n",
        "dfs.append(stfrd)\n",
        "\n",
        "#Indicators\n",
        "puell = pd.read_json(rootdir+'dataset/btc/indicators/puell-multiple.json')\n",
        "puell.rename({'v':'puell_multiple'},axis=1,inplace=True)\n",
        "dfs.append(puell)\n",
        "\n",
        "mvrv_z = pd.read_json(rootdir+'dataset/btc/indicators/mvrv-z-score.json')\n",
        "mvrv_z.rename({'v':'mvrv_z_score'},axis=1,inplace=True)\n",
        "dfs.append(mvrv_z)\n",
        "\n",
        "#Volume\n",
        "net_positions = pd.read_json(rootdir+'dataset/btc/volume/exchange-net-position-change.json')\n",
        "net_positions.rename({'v':'exchange_net_positions_change'},axis=1,inplace=True)\n",
        "dfs.append(net_positions)\n",
        "\n",
        "#Unspent spent outputs\n",
        "utxo = pd.read_json(rootdir+'dataset/btc/unspent spent outputs/percent-utx-os-in-profit.json')\n",
        "utxo.rename({'v':'percent_utxos_in_profit'},axis=1,inplace=True)\n",
        "dfs.append(utxo)\n",
        "\n",
        "btc_final = reduce(lambda left,right: pd.merge(left,right,on='t'), dfs)\n",
        "\n",
        "btc_final.rename({'t':'Date'},axis=1,inplace=True)\n",
        "btc_final['Date'] = pd.to_datetime(btc_final['Date'])\n",
        "btc_final.set_index('Date',inplace=True)"
      ],
      "execution_count": 6,
      "outputs": [
        {
          "output_type": "stream",
          "name": "stderr",
          "text": [
            "/usr/local/lib/python3.7/dist-packages/ipykernel_launcher.py:70: FutureWarning: pandas.io.json.json_normalize is deprecated, use pandas.json_normalize instead\n"
          ]
        }
      ]
    },
    {
      "cell_type": "code",
      "metadata": {
        "id": "wdAisMCRIlat",
        "colab": {
          "base_uri": "https://localhost:8080/"
        },
        "outputId": "3aa208e1-45d3-44ba-f173-aea1d5fd9215"
      },
      "source": [
        "btc_final.info()"
      ],
      "execution_count": 7,
      "outputs": [
        {
          "output_type": "stream",
          "name": "stdout",
          "text": [
            "<class 'pandas.core.frame.DataFrame'>\n",
            "DatetimeIndex: 3285 entries, 2011-09-16 00:00:00+00:00 to 2020-09-12 00:00:00+00:00\n",
            "Data columns (total 20 columns):\n",
            " #   Column                         Non-Null Count  Dtype  \n",
            "---  ------                         --------------  -----  \n",
            " 0   close                          3285 non-null   float64\n",
            " 1   deltacap                       3285 non-null   float64\n",
            " 2   realizedcap                    3285 non-null   float64\n",
            " 3   miner_revenue_total            3285 non-null   float64\n",
            " 4   miner_fees_percent             3285 non-null   float64\n",
            " 5   nupl                           3285 non-null   float64\n",
            " 6   relative_unrealised_profit     3285 non-null   float64\n",
            " 7   relative_unrealised_loss       3285 non-null   float64\n",
            " 8   net_flow_vol                   3285 non-null   float64\n",
            " 9   transaction_rate               3285 non-null   float64\n",
            " 10  total_transaction              3285 non-null   int64  \n",
            " 11  in_house_exchange_volume       3285 non-null   float64\n",
            " 12  rhodl_ratio                    3285 non-null   float64\n",
            " 13  days_till_halving              3285 non-null   int64  \n",
            " 14  stock_to_flow_ratio            3285 non-null   float64\n",
            " 15  stock_to_flow_deflection       3285 non-null   float64\n",
            " 16  puell_multiple                 3285 non-null   float64\n",
            " 17  mvrv_z_score                   3285 non-null   float64\n",
            " 18  exchange_net_positions_change  3285 non-null   float64\n",
            " 19  percent_utxos_in_profit        3285 non-null   float64\n",
            "dtypes: float64(18), int64(2)\n",
            "memory usage: 538.9 KB\n"
          ]
        }
      ]
    },
    {
      "cell_type": "markdown",
      "metadata": {
        "id": "UpK7ONbCxY4y"
      },
      "source": [
        "\n",
        "### ETH On-chain Columns\n",
        "#### Price/Market \n",
        "* Market Cap\n",
        "* Realized Cap\n",
        "* Delta Cap = Realized cap - Average cap\n",
        "\n",
        "#### Transaction\n",
        "* Exchange Net flow volume - difference of in volume flowing into exchanges and out of exchanges vs price\n",
        "* Bitcoin: Number of Transactions per Second or count\n",
        "Total number of daily transactions\n",
        "\n",
        "#### Miner\n",
        "* Miner Revenue - lesser miner revenue could discourage people to mine new cryptocurrency, therefore lower supply which increase cryptocurrency price.\n",
        "* Percentage mine revenue: fees/minted coins\n",
        "\n",
        "#### Profit and Loss\n",
        "* Unrealized Profit/Loss\n",
        "* Relative Unrealized profit or loss\n",
        "* Net Unrealized Profit/Loss (NUPL) \n",
        "Fear index have a correlation with price\n",
        "\n",
        "#### Stock index funds or bond interest rate\n",
        "* SPY\n",
        "\n",
        "#### Indicators (https://cointelegraph.com/magazine/2021/09/03/how-to-prepare-for-end-of-bull-run-part-1-timing)\n",
        "* Puell Multiple\n",
        "* MVRV Z-Score\n",
        "\n",
        "#### Volume\n",
        "* Entity Balances\n",
        "* Exchange Net Position Change - All Exchanges\n",
        "supply held in exchange wallets\n",
        "\n",
        "#### Unspent/Spent Outputs\n",
        "* Percent of UTXOs in Profit"
      ]
    },
    {
      "cell_type": "code",
      "metadata": {
        "colab": {
          "base_uri": "https://localhost:8080/"
        },
        "id": "2e_dY6xMxY45",
        "outputId": "15477cb4-5e02-4c8a-f15b-0100c8037d5e"
      },
      "source": [
        "! unzip /content/eth.zip -d /content/dataset"
      ],
      "execution_count": 8,
      "outputs": [
        {
          "output_type": "stream",
          "name": "stdout",
          "text": [
            "Archive:  /content/eth.zip\n",
            "   creating: /content/dataset/eth/indicators/\n",
            "  inflating: /content/dataset/eth/indicators/mvrv-z-score.json  \n",
            "   creating: /content/dataset/eth/miner/\n",
            "  inflating: /content/dataset/eth/miner/miner-revenue-fees.json  \n",
            "  inflating: /content/dataset/eth/miner/miner-revenue-total.json  \n",
            "   creating: /content/dataset/eth/price market/\n",
            "  inflating: /content/dataset/eth/price market/eth-close-price.json  \n",
            "  inflating: /content/dataset/eth/price market/market-cap.json  \n",
            "  inflating: /content/dataset/eth/price market/realized-cap.json  \n",
            "   creating: /content/dataset/eth/profit loss/\n",
            "  inflating: /content/dataset/eth/profit loss/net-unrealized-profit-loss-nupl.json  \n",
            "  inflating: /content/dataset/eth/profit loss/relative-unrealized-loss.json  \n",
            "  inflating: /content/dataset/eth/profit loss/relative-unrealized-profit.json  \n",
            "   creating: /content/dataset/eth/transaction/\n",
            "  inflating: /content/dataset/eth/transaction/exchange-netflow-volume.json  \n",
            "  inflating: /content/dataset/eth/transaction/in-house-exchange-volume.json  \n",
            "  inflating: /content/dataset/eth/transaction/transaction-count.json  \n",
            "  inflating: /content/dataset/eth/transaction/transaction-rate.json  \n",
            "   creating: /content/dataset/eth/volume/\n",
            "  inflating: /content/dataset/eth/volume/exchange-net-position-change.json  \n"
          ]
        }
      ]
    },
    {
      "cell_type": "code",
      "metadata": {
        "id": "QRefDT5txY46"
      },
      "source": [
        "from functools import reduce\n",
        "\n",
        "rootdir = '/content/'\n",
        "\n",
        "#eth\n",
        "dfs=[]\n",
        "\n",
        "#price market\n",
        "price = pd.read_json(rootdir+'dataset/eth/price market/eth-close-price.json')\n",
        "price.rename({'v':'close'},axis=1,inplace=True)\n",
        "dfs.append(price)\n",
        "\n",
        "# mcap = pd.read_json(rootdir+'dataset/eth/price market/market-cap.json')\n",
        "# mcap.rename({'v':'marketcap'},axis=1,inplace=True)\n",
        "# dfs.append(mcap)\n",
        "\n",
        "rcap = pd.read_json(rootdir+'dataset/eth/price market/realized-cap.json')\n",
        "rcap.rename({'v':'realizedcap'},axis=1,inplace=True)\n",
        "dfs.append(rcap)\n",
        "\n",
        "#miner\n",
        "miner_rev_total = pd.read_json(rootdir+'dataset/eth/miner/miner-revenue-total.json')\n",
        "miner_rev_total.rename({'v':'miner_revenue_total'},axis=1,inplace=True)\n",
        "dfs.append(miner_rev_total)\n",
        "\n",
        "miner_rev_fees = pd.read_json(rootdir+'dataset/eth/miner/miner-revenue-fees.json')\n",
        "miner_rev_fees.rename({'v':'miner_fees_percent'},axis=1,inplace=True)\n",
        "dfs.append(miner_rev_fees)\n",
        "\n",
        "#profit loss\n",
        "nupl = pd.read_json(rootdir+'dataset/eth/profit loss/net-unrealized-profit-loss-nupl.json')\n",
        "nupl.rename({'v':'nupl'},axis=1,inplace=True)\n",
        "dfs.append(nupl)\n",
        "\n",
        "rup = pd.read_json(rootdir+'dataset/eth/profit loss/relative-unrealized-profit.json')\n",
        "rup.rename({'v':'relative_unrealised_profit'},axis=1,inplace=True)\n",
        "dfs.append(rup)\n",
        "\n",
        "rul = pd.read_json(rootdir+'dataset/eth/profit loss/relative-unrealized-loss.json')\n",
        "rul.rename({'v':'relative_unrealised_loss'},axis=1,inplace=True)\n",
        "dfs.append(rul)\n",
        "\n",
        "#transactions\n",
        "net_flow_vol = pd.read_json(rootdir+'dataset/eth/transaction/exchange-netflow-volume.json')\n",
        "net_flow_vol.rename({'v':'net_flow_vol'},axis=1,inplace=True)\n",
        "dfs.append(net_flow_vol)\n",
        "\n",
        "tx_rate = pd.read_json(rootdir+'dataset/eth/transaction/transaction-rate.json')\n",
        "tx_rate.rename({'v':'transaction_rate'},axis=1,inplace=True)\n",
        "dfs.append(tx_rate)\n",
        "\n",
        "tx_count = pd.read_json(rootdir+'dataset/eth/transaction/transaction-count.json')\n",
        "tx_count.rename({'v':'total_transaction'},axis=1,inplace=True)\n",
        "dfs.append(tx_count)\n",
        "\n",
        "inhse_vol = pd.read_json(rootdir+'dataset/eth/transaction/in-house-exchange-volume.json')\n",
        "inhse_vol.rename({'v':'in_house_exchange_volume'},axis=1,inplace=True)\n",
        "dfs.append(inhse_vol)\n",
        "\n",
        "#Indicators\n",
        "mvrv_z = pd.read_json(rootdir+'dataset/eth/indicators/mvrv-z-score.json')\n",
        "mvrv_z.rename({'v':'mvrv_z_score'},axis=1,inplace=True)\n",
        "dfs.append(mvrv_z)\n",
        "\n",
        "#Volume\n",
        "net_positions = pd.read_json(rootdir+'dataset/eth/volume/exchange-net-position-change.json')\n",
        "net_positions.rename({'v':'exchange_net_positions_change'},axis=1,inplace=True)\n",
        "dfs.append(net_positions)\n",
        "\n",
        "eth_final = reduce(lambda left,right: pd.merge(left,right,on='t'), dfs)\n",
        "\n",
        "eth_final.rename({'t':'Date'},axis=1,inplace=True)\n",
        "eth_final['Date'] = pd.to_datetime(eth_final['Date'])\n",
        "eth_final.set_index('Date',inplace=True)"
      ],
      "execution_count": 9,
      "outputs": []
    },
    {
      "cell_type": "code",
      "metadata": {
        "id": "xFHUIUQ5xY47",
        "colab": {
          "base_uri": "https://localhost:8080/"
        },
        "outputId": "bbde5731-0c16-46ab-9787-cc32726666a4"
      },
      "source": [
        "eth_final.info()"
      ],
      "execution_count": 10,
      "outputs": [
        {
          "output_type": "stream",
          "name": "stdout",
          "text": [
            "<class 'pandas.core.frame.DataFrame'>\n",
            "DatetimeIndex: 1832 entries, 2015-09-06 00:00:00+00:00 to 2020-09-10 00:00:00+00:00\n",
            "Data columns (total 13 columns):\n",
            " #   Column                         Non-Null Count  Dtype  \n",
            "---  ------                         --------------  -----  \n",
            " 0   close                          1828 non-null   float64\n",
            " 1   realizedcap                    1832 non-null   float64\n",
            " 2   miner_revenue_total            1832 non-null   float64\n",
            " 3   miner_fees_percent             1832 non-null   float64\n",
            " 4   nupl                           1832 non-null   float64\n",
            " 5   relative_unrealised_profit     1832 non-null   float64\n",
            " 6   relative_unrealised_loss       1832 non-null   float64\n",
            " 7   net_flow_vol                   1832 non-null   float64\n",
            " 8   transaction_rate               1832 non-null   float64\n",
            " 9   total_transaction              1832 non-null   int64  \n",
            " 10  in_house_exchange_volume       1832 non-null   float64\n",
            " 11  mvrv_z_score                   1832 non-null   float64\n",
            " 12  exchange_net_positions_change  1832 non-null   float64\n",
            "dtypes: float64(12), int64(1)\n",
            "memory usage: 200.4 KB\n"
          ]
        }
      ]
    },
    {
      "cell_type": "code",
      "metadata": {
        "colab": {
          "base_uri": "https://localhost:8080/",
          "height": 0
        },
        "id": "KSEieiYtzDg0",
        "outputId": "ea334bf0-d953-4939-dbc1-56bdc7812335"
      },
      "source": [
        "eth_final[eth_final.isnull().any(axis=1)]"
      ],
      "execution_count": 11,
      "outputs": [
        {
          "output_type": "execute_result",
          "data": {
            "text/html": [
              "<div>\n",
              "<style scoped>\n",
              "    .dataframe tbody tr th:only-of-type {\n",
              "        vertical-align: middle;\n",
              "    }\n",
              "\n",
              "    .dataframe tbody tr th {\n",
              "        vertical-align: top;\n",
              "    }\n",
              "\n",
              "    .dataframe thead th {\n",
              "        text-align: right;\n",
              "    }\n",
              "</style>\n",
              "<table border=\"1\" class=\"dataframe\">\n",
              "  <thead>\n",
              "    <tr style=\"text-align: right;\">\n",
              "      <th></th>\n",
              "      <th>close</th>\n",
              "      <th>realizedcap</th>\n",
              "      <th>miner_revenue_total</th>\n",
              "      <th>miner_fees_percent</th>\n",
              "      <th>nupl</th>\n",
              "      <th>relative_unrealised_profit</th>\n",
              "      <th>relative_unrealised_loss</th>\n",
              "      <th>net_flow_vol</th>\n",
              "      <th>transaction_rate</th>\n",
              "      <th>total_transaction</th>\n",
              "      <th>in_house_exchange_volume</th>\n",
              "      <th>mvrv_z_score</th>\n",
              "      <th>exchange_net_positions_change</th>\n",
              "    </tr>\n",
              "    <tr>\n",
              "      <th>Date</th>\n",
              "      <th></th>\n",
              "      <th></th>\n",
              "      <th></th>\n",
              "      <th></th>\n",
              "      <th></th>\n",
              "      <th></th>\n",
              "      <th></th>\n",
              "      <th></th>\n",
              "      <th></th>\n",
              "      <th></th>\n",
              "      <th></th>\n",
              "      <th></th>\n",
              "      <th></th>\n",
              "    </tr>\n",
              "  </thead>\n",
              "  <tbody>\n",
              "    <tr>\n",
              "      <th>2018-04-12 00:00:00+00:00</th>\n",
              "      <td>NaN</td>\n",
              "      <td>3.260675e+10</td>\n",
              "      <td>20577.595340</td>\n",
              "      <td>0.018412</td>\n",
              "      <td>0.273578</td>\n",
              "      <td>0.531837</td>\n",
              "      <td>0.258259</td>\n",
              "      <td>-21164.874861</td>\n",
              "      <td>7.836123</td>\n",
              "      <td>677041</td>\n",
              "      <td>141436.340386</td>\n",
              "      <td>0.326801</td>\n",
              "      <td>679666.133872</td>\n",
              "    </tr>\n",
              "    <tr>\n",
              "      <th>2018-04-13 00:00:00+00:00</th>\n",
              "      <td>NaN</td>\n",
              "      <td>3.256329e+10</td>\n",
              "      <td>21075.428770</td>\n",
              "      <td>0.020985</td>\n",
              "      <td>0.274772</td>\n",
              "      <td>0.531529</td>\n",
              "      <td>0.256756</td>\n",
              "      <td>-79046.285699</td>\n",
              "      <td>8.256644</td>\n",
              "      <td>713374</td>\n",
              "      <td>127761.029014</td>\n",
              "      <td>0.328377</td>\n",
              "      <td>584197.152921</td>\n",
              "    </tr>\n",
              "    <tr>\n",
              "      <th>2018-04-14 00:00:00+00:00</th>\n",
              "      <td>NaN</td>\n",
              "      <td>3.254232e+10</td>\n",
              "      <td>20703.428550</td>\n",
              "      <td>0.015313</td>\n",
              "      <td>0.275677</td>\n",
              "      <td>0.531572</td>\n",
              "      <td>0.255894</td>\n",
              "      <td>-13254.282148</td>\n",
              "      <td>6.903391</td>\n",
              "      <td>596453</td>\n",
              "      <td>49441.705835</td>\n",
              "      <td>0.329540</td>\n",
              "      <td>585003.245547</td>\n",
              "    </tr>\n",
              "    <tr>\n",
              "      <th>2018-04-15 00:00:00+00:00</th>\n",
              "      <td>NaN</td>\n",
              "      <td>3.252987e+10</td>\n",
              "      <td>20690.112531</td>\n",
              "      <td>0.014176</td>\n",
              "      <td>0.276029</td>\n",
              "      <td>0.531217</td>\n",
              "      <td>0.255188</td>\n",
              "      <td>-42203.790760</td>\n",
              "      <td>6.998171</td>\n",
              "      <td>604642</td>\n",
              "      <td>77453.379492</td>\n",
              "      <td>0.330020</td>\n",
              "      <td>515865.036165</td>\n",
              "    </tr>\n",
              "  </tbody>\n",
              "</table>\n",
              "</div>"
            ],
            "text/plain": [
              "                           close  ...  exchange_net_positions_change\n",
              "Date                              ...                               \n",
              "2018-04-12 00:00:00+00:00    NaN  ...                  679666.133872\n",
              "2018-04-13 00:00:00+00:00    NaN  ...                  584197.152921\n",
              "2018-04-14 00:00:00+00:00    NaN  ...                  585003.245547\n",
              "2018-04-15 00:00:00+00:00    NaN  ...                  515865.036165\n",
              "\n",
              "[4 rows x 13 columns]"
            ]
          },
          "metadata": {},
          "execution_count": 11
        }
      ]
    },
    {
      "cell_type": "code",
      "metadata": {
        "colab": {
          "base_uri": "https://localhost:8080/"
        },
        "id": "uWgfMpK4W3ip",
        "outputId": "73c4ccbb-b88f-4723-f98c-561d66f371a4"
      },
      "source": [
        "from pandas_datareader import data\n",
        "#imputing missing close price from data reader\n",
        "\n",
        "null_start = eth_final[eth_final.isnull().any(axis=1)].index.min()\n",
        "null_end = eth_final[eth_final.isnull().any(axis=1)].index.max()\n",
        "\n",
        "eth_panel = data.DataReader(['ETH-USD'],'yahoo',null_start,null_end)\n",
        "eth_panel.index= pd.to_datetime(eth_panel.index,utc=True)\n",
        "eth_close = eth_panel['Close']['ETH-USD'].rename('close')\n",
        "eth_close"
      ],
      "execution_count": 12,
      "outputs": [
        {
          "output_type": "execute_result",
          "data": {
            "text/plain": [
              "Date\n",
              "2018-04-11 00:00:00+00:00    492.941010\n",
              "2018-04-12 00:00:00+00:00    492.734985\n",
              "2018-04-13 00:00:00+00:00    501.477997\n",
              "2018-04-14 00:00:00+00:00    531.702026\n",
              "2018-04-15 00:00:00+00:00    511.147003\n",
              "Name: close, dtype: float64"
            ]
          },
          "metadata": {},
          "execution_count": 12
        }
      ]
    },
    {
      "cell_type": "code",
      "metadata": {
        "colab": {
          "base_uri": "https://localhost:8080/"
        },
        "id": "VchjQh-AaG9r",
        "outputId": "4c75fcbb-40c6-44a3-9d4a-1b23f062a324"
      },
      "source": [
        "eth_final.loc[null_start:null_end,'close'] = eth_close\n",
        "\n",
        "eth_final.info()"
      ],
      "execution_count": 13,
      "outputs": [
        {
          "output_type": "stream",
          "name": "stdout",
          "text": [
            "<class 'pandas.core.frame.DataFrame'>\n",
            "DatetimeIndex: 1832 entries, 2015-09-06 00:00:00+00:00 to 2020-09-10 00:00:00+00:00\n",
            "Data columns (total 13 columns):\n",
            " #   Column                         Non-Null Count  Dtype  \n",
            "---  ------                         --------------  -----  \n",
            " 0   close                          1832 non-null   float64\n",
            " 1   realizedcap                    1832 non-null   float64\n",
            " 2   miner_revenue_total            1832 non-null   float64\n",
            " 3   miner_fees_percent             1832 non-null   float64\n",
            " 4   nupl                           1832 non-null   float64\n",
            " 5   relative_unrealised_profit     1832 non-null   float64\n",
            " 6   relative_unrealised_loss       1832 non-null   float64\n",
            " 7   net_flow_vol                   1832 non-null   float64\n",
            " 8   transaction_rate               1832 non-null   float64\n",
            " 9   total_transaction              1832 non-null   int64  \n",
            " 10  in_house_exchange_volume       1832 non-null   float64\n",
            " 11  mvrv_z_score                   1832 non-null   float64\n",
            " 12  exchange_net_positions_change  1832 non-null   float64\n",
            "dtypes: float64(12), int64(1)\n",
            "memory usage: 280.4 KB\n"
          ]
        }
      ]
    },
    {
      "cell_type": "code",
      "metadata": {
        "colab": {
          "base_uri": "https://localhost:8080/"
        },
        "id": "QxOUbfk8ap01",
        "outputId": "b2d91702-f6e5-4f19-e122-dc45ca60a0b4"
      },
      "source": [
        "# eth_final.iloc[949:953,0]\n",
        "eth_final.loc[null_start:null_end,'close'] "
      ],
      "execution_count": 14,
      "outputs": [
        {
          "output_type": "execute_result",
          "data": {
            "text/plain": [
              "Date\n",
              "2018-04-12 00:00:00+00:00    492.734985\n",
              "2018-04-13 00:00:00+00:00    501.477997\n",
              "2018-04-14 00:00:00+00:00    531.702026\n",
              "2018-04-15 00:00:00+00:00    511.147003\n",
              "Name: close, dtype: float64"
            ]
          },
          "metadata": {},
          "execution_count": 14
        }
      ]
    },
    {
      "cell_type": "markdown",
      "metadata": {
        "id": "yfWmiAXmyeor"
      },
      "source": [
        "\n",
        "### LTC On-chain Columns\n",
        "#### Price/Market \n",
        "* Market Cap\n",
        "* Realized Cap\n",
        "* Delta Cap = Realized cap - Average cap\n",
        "\n",
        "#### Transaction\n",
        "* Exchange Net flow volume - difference of in volume flowing into exchanges and out of exchanges vs price\n",
        "* Bitcoin: Number of Transactions per Second or count\n",
        "Total number of daily transactions\n",
        "\n",
        "#### Miner\n",
        "* Miner Revenue - lesser miner revenue could discourage people to mine new cryptocurrency, therefore lower supply which increase cryptocurrency price.\n",
        "* Percentage mine revenue: fees/minted coins\n",
        "\n",
        "#### Profit and Loss\n",
        "* Unrealized Profit/Loss\n",
        "* Relative Unrealized profit or loss\n",
        "* Net Unrealized Profit/Loss (NUPL) \n",
        "Fear index have a correlation with price\n",
        "\n",
        "#### Stock index funds or bond interest rate\n",
        "* SPY\n",
        "\n",
        "#### Indicators (https://cointelegraph.com/magazine/2021/09/03/how-to-prepare-for-end-of-bull-run-part-1-timing)\n",
        "* Puell Multiple\n",
        "* MVRV Z-Score\n",
        "\n",
        "#### Volume\n",
        "* Entity Balances\n",
        "* Exchange Net Position Change - All Exchanges\n",
        "supply held in exchange wallets\n",
        "\n",
        "#### Unspent/Spent Outputs\n",
        "* Percent of UTXOs in Profit"
      ]
    },
    {
      "cell_type": "code",
      "metadata": {
        "colab": {
          "base_uri": "https://localhost:8080/"
        },
        "id": "wc5gFlGwyeox",
        "outputId": "4d7ca009-8ebd-40bf-db39-59c656dcd3ca"
      },
      "source": [
        "! unzip /content/ltc.zip -d /content/dataset"
      ],
      "execution_count": 15,
      "outputs": [
        {
          "output_type": "stream",
          "name": "stdout",
          "text": [
            "Archive:  /content/ltc.zip\n",
            "   creating: /content/dataset/ltc/indicators/\n",
            "  inflating: /content/dataset/ltc/indicators/mvrv-z-score.json  \n",
            "  inflating: /content/dataset/ltc/indicators/puell-multiple.json  \n",
            "   creating: /content/dataset/ltc/price market/\n",
            "  inflating: /content/dataset/ltc/price market/ltc-close-price.json  \n",
            "  inflating: /content/dataset/ltc/price market/market-cap.json  \n",
            "  inflating: /content/dataset/ltc/price market/realized-cap.json  \n",
            "   creating: /content/dataset/ltc/transaction/\n",
            "  inflating: /content/dataset/ltc/transaction/transaction-count.json  \n",
            "  inflating: /content/dataset/ltc/transaction/transaction-rate.json  \n"
          ]
        }
      ]
    },
    {
      "cell_type": "code",
      "metadata": {
        "id": "XBNF6WRiyeoy"
      },
      "source": [
        "from functools import reduce\n",
        "\n",
        "rootdir = '/content/'\n",
        "\n",
        "#ltc\n",
        "dfs=[]\n",
        "\n",
        "#price market\n",
        "price = pd.read_json(rootdir+'dataset/ltc/price market/ltc-close-price.json')\n",
        "price.rename({'v':'close'},axis=1,inplace=True)\n",
        "dfs.append(price)\n",
        "\n",
        "# mcap = pd.read_json(rootdir+'dataset/ltc/price market/market-cap.json')\n",
        "# mcap.rename({'v':'marketcap'},axis=1,inplace=True)\n",
        "# dfs.append(mcap)\n",
        "\n",
        "rcap = pd.read_json(rootdir+'dataset/ltc/price market/realized-cap.json')\n",
        "rcap.rename({'v':'realizedcap'},axis=1,inplace=True)\n",
        "dfs.append(rcap)\n",
        "\n",
        "#transactions\n",
        "tx_rate = pd.read_json(rootdir+'dataset/ltc/transaction/transaction-rate.json')\n",
        "tx_rate.rename({'v':'transaction_rate'},axis=1,inplace=True)\n",
        "dfs.append(tx_rate)\n",
        "\n",
        "tx_count = pd.read_json(rootdir+'dataset/ltc/transaction/transaction-count.json')\n",
        "tx_count.rename({'v':'total_transaction'},axis=1,inplace=True)\n",
        "dfs.append(tx_count)\n",
        "\n",
        "# inhse_vol = pd.read_json(rootdir+'dataset/ltc/transaction/in-house-exchange-volume.json')\n",
        "# inhse_vol.rename({'v':'in_house_exchange_volume'},axis=1,inplace=True)\n",
        "# dfs.append(inhse_vol)\n",
        "\n",
        "#Indicators\n",
        "mvrv_z = pd.read_json(rootdir+'dataset/ltc/indicators/mvrv-z-score.json')\n",
        "mvrv_z.rename({'v':'mvrv_z_score'},axis=1,inplace=True)\n",
        "dfs.append(mvrv_z)\n",
        "\n",
        "mvrv_z = pd.read_json(rootdir+'dataset/ltc/indicators/puell-multiple.json')\n",
        "mvrv_z.rename({'v':'puell-multiple'},axis=1,inplace=True)\n",
        "dfs.append(mvrv_z)\n",
        "\n",
        "ltc_final = reduce(lambda left,right: pd.merge(left,right,on='t'), dfs)\n",
        "\n",
        "ltc_final.rename({'t':'Date'},axis=1,inplace=True)\n",
        "ltc_final['Date'] = pd.to_datetime(ltc_final['Date'])\n",
        "ltc_final.set_index('Date',inplace=True)"
      ],
      "execution_count": 16,
      "outputs": []
    },
    {
      "cell_type": "code",
      "metadata": {
        "id": "4wqn2k4Wyeoy",
        "colab": {
          "base_uri": "https://localhost:8080/"
        },
        "outputId": "a3eb4ed7-7c91-4696-ecd5-c124876eb009"
      },
      "source": [
        "ltc_final.info()"
      ],
      "execution_count": 17,
      "outputs": [
        {
          "output_type": "stream",
          "name": "stdout",
          "text": [
            "<class 'pandas.core.frame.DataFrame'>\n",
            "DatetimeIndex: 2308 entries, 2014-05-18 00:00:00+00:00 to 2020-09-10 00:00:00+00:00\n",
            "Data columns (total 6 columns):\n",
            " #   Column             Non-Null Count  Dtype  \n",
            "---  ------             --------------  -----  \n",
            " 0   close              2300 non-null   float64\n",
            " 1   realizedcap        2308 non-null   float64\n",
            " 2   transaction_rate   2308 non-null   float64\n",
            " 3   total_transaction  2308 non-null   int64  \n",
            " 4   mvrv_z_score       2308 non-null   float64\n",
            " 5   puell-multiple     2308 non-null   float64\n",
            "dtypes: float64(5), int64(1)\n",
            "memory usage: 126.2 KB\n"
          ]
        }
      ]
    },
    {
      "cell_type": "code",
      "metadata": {
        "colab": {
          "base_uri": "https://localhost:8080/",
          "height": 0
        },
        "id": "cjyPZ908uQM0",
        "outputId": "a6442b1a-e0f4-421f-c554-108c4ea87f13"
      },
      "source": [
        "ltc_final[ltc_final.isnull().any(axis=1)]"
      ],
      "execution_count": 18,
      "outputs": [
        {
          "output_type": "execute_result",
          "data": {
            "text/html": [
              "<div>\n",
              "<style scoped>\n",
              "    .dataframe tbody tr th:only-of-type {\n",
              "        vertical-align: middle;\n",
              "    }\n",
              "\n",
              "    .dataframe tbody tr th {\n",
              "        vertical-align: top;\n",
              "    }\n",
              "\n",
              "    .dataframe thead th {\n",
              "        text-align: right;\n",
              "    }\n",
              "</style>\n",
              "<table border=\"1\" class=\"dataframe\">\n",
              "  <thead>\n",
              "    <tr style=\"text-align: right;\">\n",
              "      <th></th>\n",
              "      <th>close</th>\n",
              "      <th>realizedcap</th>\n",
              "      <th>transaction_rate</th>\n",
              "      <th>total_transaction</th>\n",
              "      <th>mvrv_z_score</th>\n",
              "      <th>puell-multiple</th>\n",
              "    </tr>\n",
              "    <tr>\n",
              "      <th>Date</th>\n",
              "      <th></th>\n",
              "      <th></th>\n",
              "      <th></th>\n",
              "      <th></th>\n",
              "      <th></th>\n",
              "      <th></th>\n",
              "    </tr>\n",
              "  </thead>\n",
              "  <tbody>\n",
              "    <tr>\n",
              "      <th>2014-11-09 00:00:00+00:00</th>\n",
              "      <td>NaN</td>\n",
              "      <td>3.949772e+08</td>\n",
              "      <td>0.031979</td>\n",
              "      <td>2763</td>\n",
              "      <td>-1.587256</td>\n",
              "      <td>0.280852</td>\n",
              "    </tr>\n",
              "    <tr>\n",
              "      <th>2014-11-10 00:00:00+00:00</th>\n",
              "      <td>NaN</td>\n",
              "      <td>3.949802e+08</td>\n",
              "      <td>0.041921</td>\n",
              "      <td>3622</td>\n",
              "      <td>-1.587361</td>\n",
              "      <td>0.270762</td>\n",
              "    </tr>\n",
              "    <tr>\n",
              "      <th>2014-11-11 00:00:00+00:00</th>\n",
              "      <td>NaN</td>\n",
              "      <td>3.950324e+08</td>\n",
              "      <td>0.035266</td>\n",
              "      <td>3047</td>\n",
              "      <td>-1.587758</td>\n",
              "      <td>0.297808</td>\n",
              "    </tr>\n",
              "    <tr>\n",
              "      <th>2018-04-12 00:00:00+00:00</th>\n",
              "      <td>NaN</td>\n",
              "      <td>7.075542e+09</td>\n",
              "      <td>0.377535</td>\n",
              "      <td>32619</td>\n",
              "      <td>-0.245356</td>\n",
              "      <td>1.202118</td>\n",
              "    </tr>\n",
              "    <tr>\n",
              "      <th>2018-04-13 00:00:00+00:00</th>\n",
              "      <td>NaN</td>\n",
              "      <td>7.071304e+09</td>\n",
              "      <td>0.378021</td>\n",
              "      <td>32661</td>\n",
              "      <td>-0.242876</td>\n",
              "      <td>1.134421</td>\n",
              "    </tr>\n",
              "    <tr>\n",
              "      <th>2018-04-14 00:00:00+00:00</th>\n",
              "      <td>NaN</td>\n",
              "      <td>7.070300e+09</td>\n",
              "      <td>0.284236</td>\n",
              "      <td>24558</td>\n",
              "      <td>-0.241648</td>\n",
              "      <td>1.142876</td>\n",
              "    </tr>\n",
              "    <tr>\n",
              "      <th>2018-04-15 00:00:00+00:00</th>\n",
              "      <td>NaN</td>\n",
              "      <td>7.053507e+09</td>\n",
              "      <td>0.294919</td>\n",
              "      <td>25481</td>\n",
              "      <td>-0.234237</td>\n",
              "      <td>1.215013</td>\n",
              "    </tr>\n",
              "    <tr>\n",
              "      <th>2019-03-31 00:00:00+00:00</th>\n",
              "      <td>NaN</td>\n",
              "      <td>4.499517e+09</td>\n",
              "      <td>0.262396</td>\n",
              "      <td>22671</td>\n",
              "      <td>-0.286329</td>\n",
              "      <td>0.895890</td>\n",
              "    </tr>\n",
              "  </tbody>\n",
              "</table>\n",
              "</div>"
            ],
            "text/plain": [
              "                           close   realizedcap  ...  mvrv_z_score  puell-multiple\n",
              "Date                                            ...                              \n",
              "2014-11-09 00:00:00+00:00    NaN  3.949772e+08  ...     -1.587256        0.280852\n",
              "2014-11-10 00:00:00+00:00    NaN  3.949802e+08  ...     -1.587361        0.270762\n",
              "2014-11-11 00:00:00+00:00    NaN  3.950324e+08  ...     -1.587758        0.297808\n",
              "2018-04-12 00:00:00+00:00    NaN  7.075542e+09  ...     -0.245356        1.202118\n",
              "2018-04-13 00:00:00+00:00    NaN  7.071304e+09  ...     -0.242876        1.134421\n",
              "2018-04-14 00:00:00+00:00    NaN  7.070300e+09  ...     -0.241648        1.142876\n",
              "2018-04-15 00:00:00+00:00    NaN  7.053507e+09  ...     -0.234237        1.215013\n",
              "2019-03-31 00:00:00+00:00    NaN  4.499517e+09  ...     -0.286329        0.895890\n",
              "\n",
              "[8 rows x 6 columns]"
            ]
          },
          "metadata": {},
          "execution_count": 18
        }
      ]
    },
    {
      "cell_type": "code",
      "metadata": {
        "colab": {
          "base_uri": "https://localhost:8080/"
        },
        "id": "_7_B1az0uB4e",
        "outputId": "ab2bd4d7-9140-4367-a3fe-71be346c11c8"
      },
      "source": [
        "from pandas_datareader import data\n",
        "#imputing missing close price from data reader\n",
        "\n",
        "null_start = ltc_final[ltc_final.isnull().any(axis=1)].index.min()\n",
        "null_end = ltc_final[ltc_final.isnull().any(axis=1)].index.max()\n",
        "null_dates = ltc_final[ltc_final.isnull().any(axis=1)].index\n",
        "\n",
        "ltc_panel = data.DataReader(['LTC-USD'],'yahoo',null_start,null_end)\n",
        "ltc_panel.index= pd.to_datetime(ltc_panel.index,utc=True)\n",
        "ltc_panel = ltc_panel['Close']['LTC-USD'].rename('close')\n",
        "ltc_close = ltc_panel[null_dates][:8]\n",
        "ltc_close"
      ],
      "execution_count": 19,
      "outputs": [
        {
          "output_type": "execute_result",
          "data": {
            "text/plain": [
              "Date\n",
              "2014-11-09 00:00:00+00:00      3.631460\n",
              "2014-11-10 00:00:00+00:00      3.695630\n",
              "2014-11-11 00:00:00+00:00      3.675890\n",
              "2018-04-12 00:00:00+00:00    125.353996\n",
              "2018-04-13 00:00:00+00:00    126.293999\n",
              "2018-04-14 00:00:00+00:00    132.044998\n",
              "2018-04-15 00:00:00+00:00    128.335007\n",
              "2019-03-31 00:00:00+00:00     60.755398\n",
              "Name: close, dtype: float64"
            ]
          },
          "metadata": {},
          "execution_count": 19
        }
      ]
    },
    {
      "cell_type": "code",
      "metadata": {
        "colab": {
          "base_uri": "https://localhost:8080/",
          "height": 0
        },
        "id": "07hXD7_nuZVO",
        "outputId": "3b4eabaf-a0f1-4aab-e01a-cad49bf403a4"
      },
      "source": [
        "ltc_final.update(ltc_close)\n",
        "ltc_final.loc[null_dates]"
      ],
      "execution_count": 20,
      "outputs": [
        {
          "output_type": "execute_result",
          "data": {
            "text/html": [
              "<div>\n",
              "<style scoped>\n",
              "    .dataframe tbody tr th:only-of-type {\n",
              "        vertical-align: middle;\n",
              "    }\n",
              "\n",
              "    .dataframe tbody tr th {\n",
              "        vertical-align: top;\n",
              "    }\n",
              "\n",
              "    .dataframe thead th {\n",
              "        text-align: right;\n",
              "    }\n",
              "</style>\n",
              "<table border=\"1\" class=\"dataframe\">\n",
              "  <thead>\n",
              "    <tr style=\"text-align: right;\">\n",
              "      <th></th>\n",
              "      <th>close</th>\n",
              "      <th>realizedcap</th>\n",
              "      <th>transaction_rate</th>\n",
              "      <th>total_transaction</th>\n",
              "      <th>mvrv_z_score</th>\n",
              "      <th>puell-multiple</th>\n",
              "    </tr>\n",
              "    <tr>\n",
              "      <th>Date</th>\n",
              "      <th></th>\n",
              "      <th></th>\n",
              "      <th></th>\n",
              "      <th></th>\n",
              "      <th></th>\n",
              "      <th></th>\n",
              "    </tr>\n",
              "  </thead>\n",
              "  <tbody>\n",
              "    <tr>\n",
              "      <th>2014-11-09 00:00:00+00:00</th>\n",
              "      <td>3.631460</td>\n",
              "      <td>3.949772e+08</td>\n",
              "      <td>0.031979</td>\n",
              "      <td>2763</td>\n",
              "      <td>-1.587256</td>\n",
              "      <td>0.280852</td>\n",
              "    </tr>\n",
              "    <tr>\n",
              "      <th>2014-11-10 00:00:00+00:00</th>\n",
              "      <td>3.695630</td>\n",
              "      <td>3.949802e+08</td>\n",
              "      <td>0.041921</td>\n",
              "      <td>3622</td>\n",
              "      <td>-1.587361</td>\n",
              "      <td>0.270762</td>\n",
              "    </tr>\n",
              "    <tr>\n",
              "      <th>2014-11-11 00:00:00+00:00</th>\n",
              "      <td>3.675890</td>\n",
              "      <td>3.950324e+08</td>\n",
              "      <td>0.035266</td>\n",
              "      <td>3047</td>\n",
              "      <td>-1.587758</td>\n",
              "      <td>0.297808</td>\n",
              "    </tr>\n",
              "    <tr>\n",
              "      <th>2018-04-12 00:00:00+00:00</th>\n",
              "      <td>125.353996</td>\n",
              "      <td>7.075542e+09</td>\n",
              "      <td>0.377535</td>\n",
              "      <td>32619</td>\n",
              "      <td>-0.245356</td>\n",
              "      <td>1.202118</td>\n",
              "    </tr>\n",
              "    <tr>\n",
              "      <th>2018-04-13 00:00:00+00:00</th>\n",
              "      <td>126.293999</td>\n",
              "      <td>7.071304e+09</td>\n",
              "      <td>0.378021</td>\n",
              "      <td>32661</td>\n",
              "      <td>-0.242876</td>\n",
              "      <td>1.134421</td>\n",
              "    </tr>\n",
              "    <tr>\n",
              "      <th>2018-04-14 00:00:00+00:00</th>\n",
              "      <td>132.044998</td>\n",
              "      <td>7.070300e+09</td>\n",
              "      <td>0.284236</td>\n",
              "      <td>24558</td>\n",
              "      <td>-0.241648</td>\n",
              "      <td>1.142876</td>\n",
              "    </tr>\n",
              "    <tr>\n",
              "      <th>2018-04-15 00:00:00+00:00</th>\n",
              "      <td>128.335007</td>\n",
              "      <td>7.053507e+09</td>\n",
              "      <td>0.294919</td>\n",
              "      <td>25481</td>\n",
              "      <td>-0.234237</td>\n",
              "      <td>1.215013</td>\n",
              "    </tr>\n",
              "    <tr>\n",
              "      <th>2019-03-31 00:00:00+00:00</th>\n",
              "      <td>60.755398</td>\n",
              "      <td>4.499517e+09</td>\n",
              "      <td>0.262396</td>\n",
              "      <td>22671</td>\n",
              "      <td>-0.286329</td>\n",
              "      <td>0.895890</td>\n",
              "    </tr>\n",
              "  </tbody>\n",
              "</table>\n",
              "</div>"
            ],
            "text/plain": [
              "                                close  ...  puell-multiple\n",
              "Date                                   ...                \n",
              "2014-11-09 00:00:00+00:00    3.631460  ...        0.280852\n",
              "2014-11-10 00:00:00+00:00    3.695630  ...        0.270762\n",
              "2014-11-11 00:00:00+00:00    3.675890  ...        0.297808\n",
              "2018-04-12 00:00:00+00:00  125.353996  ...        1.202118\n",
              "2018-04-13 00:00:00+00:00  126.293999  ...        1.134421\n",
              "2018-04-14 00:00:00+00:00  132.044998  ...        1.142876\n",
              "2018-04-15 00:00:00+00:00  128.335007  ...        1.215013\n",
              "2019-03-31 00:00:00+00:00   60.755398  ...        0.895890\n",
              "\n",
              "[8 rows x 6 columns]"
            ]
          },
          "metadata": {},
          "execution_count": 20
        }
      ]
    },
    {
      "cell_type": "code",
      "metadata": {
        "colab": {
          "base_uri": "https://localhost:8080/"
        },
        "id": "xxWFCE_zy8Si",
        "outputId": "eb47e982-8956-4275-f328-35658b077509"
      },
      "source": [
        "ltc_final.info()"
      ],
      "execution_count": 21,
      "outputs": [
        {
          "output_type": "stream",
          "name": "stdout",
          "text": [
            "<class 'pandas.core.frame.DataFrame'>\n",
            "DatetimeIndex: 2308 entries, 2014-05-18 00:00:00+00:00 to 2020-09-10 00:00:00+00:00\n",
            "Data columns (total 6 columns):\n",
            " #   Column             Non-Null Count  Dtype  \n",
            "---  ------             --------------  -----  \n",
            " 0   close              2308 non-null   float64\n",
            " 1   realizedcap        2308 non-null   float64\n",
            " 2   transaction_rate   2308 non-null   float64\n",
            " 3   total_transaction  2308 non-null   int64  \n",
            " 4   mvrv_z_score       2308 non-null   float64\n",
            " 5   puell-multiple     2308 non-null   float64\n",
            "dtypes: float64(5), int64(1)\n",
            "memory usage: 206.2 KB\n"
          ]
        }
      ]
    },
    {
      "cell_type": "markdown",
      "metadata": {
        "id": "xmwTiK-ADWtA"
      },
      "source": [
        "## External Data"
      ]
    },
    {
      "cell_type": "code",
      "metadata": {
        "id": "M5X_gV4vfJs5"
      },
      "source": [
        "from pandas_datareader import data\n",
        "import pandas_datareader as pdr\n",
        "\n",
        "dfs = [btc_final,eth_final,ltc_final]\n",
        "name = ['btc','eth','ltc']\n",
        "for i in range(len(dfs)):\n",
        "  panel = data.DataReader(['SPY'],'yahoo',dfs[i].index.min(),dfs[i].index.max())\n",
        "  panel.index= pd.to_datetime(panel.index,utc=True)\n",
        "  # panel.info()\n",
        "  left = dfs[i]\n",
        "  right = panel['Close']['SPY']\n",
        "  df_final = pd.merge(left,right,on='Date')\n",
        "\n",
        "  df_final.to_csv(f'{name[i]}_metrics_raw.csv')"
      ],
      "execution_count": 22,
      "outputs": []
    },
    {
      "cell_type": "code",
      "metadata": {
        "id": "KFW4i2VwHtPR"
      },
      "source": [
        ""
      ],
      "execution_count": null,
      "outputs": []
    }
  ]
}